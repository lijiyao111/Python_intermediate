{
 "cells": [
  {
   "cell_type": "markdown",
   "metadata": {},
   "source": [
    "# Decorator introduction"
   ]
  },
  {
   "cell_type": "markdown",
   "metadata": {},
   "source": [
    "##  Closure\n",
    "**First-class function is the function that can be treated as any other objects, to be passed as an argument, or returned by another function, or assigned to a variable...**\n",
    "\n",
    "**Close is a nested functions, which returns one First-class function**"
   ]
  },
  {
   "cell_type": "code",
   "execution_count": 2,
   "metadata": {
    "collapsed": false
   },
   "outputs": [
    {
     "name": "stdout",
     "output_type": "stream",
     "text": [
      "Hi\n",
      "Bye\n"
     ]
    }
   ],
   "source": [
    "# Closure example\n",
    "\n",
    "def outer_function(msg):\n",
    "    message=msg\n",
    "    \n",
    "    def inner_function():\n",
    "        print(message)\n",
    "    return inner_function\n",
    "\n",
    "hi_func = outer_function('Hi')\n",
    "bye_func = outer_function('Bye')\n",
    "\n",
    "hi_func()\n",
    "bye_func()"
   ]
  },
  {
   "cell_type": "markdown",
   "metadata": {},
   "source": [
    "## Decorator function\n",
    "\n",
    "Decorator is a convenient ''Wrapper'', which take another function as an argument, adding some more functionality without modifying the original function."
   ]
  },
  {
   "cell_type": "code",
   "execution_count": 3,
   "metadata": {
    "collapsed": false
   },
   "outputs": [
    {
     "name": "stdout",
     "output_type": "stream",
     "text": [
      "display function ran\n"
     ]
    }
   ],
   "source": [
    "# Decorator function return the wrapped function, which is waiting to be executed\n",
    "\n",
    "def decorator_function(original_function):\n",
    "    def wrapper_function():\n",
    "        return original_function()\n",
    "    return wrapper_function\n",
    "\n",
    "# A simple example of argument function\n",
    "def display():\n",
    "    print('display function ran')\n",
    "    \n",
    "decorated_display = decorator_function(display)\n",
    "\n",
    "decorated_display()"
   ]
  },
  {
   "cell_type": "markdown",
   "metadata": {},
   "source": [
    "Now, Let's add some more functionalities!"
   ]
  },
  {
   "cell_type": "code",
   "execution_count": 4,
   "metadata": {
    "collapsed": false
   },
   "outputs": [
    {
     "name": "stdout",
     "output_type": "stream",
     "text": [
      "wrapper executed this before display\n",
      "display function ran\n"
     ]
    }
   ],
   "source": [
    "def decorator_function(original_function):\n",
    "    def wrapper_function():\n",
    "        print('wrapper executed this before {}'.format(original_function.__name__))  ## Add some extra output\n",
    "        return original_function()\n",
    "    return wrapper_function\n",
    "\n",
    "    \n",
    "decorated_display = decorator_function(display)\n",
    "\n",
    "decorated_display()"
   ]
  },
  {
   "cell_type": "markdown",
   "metadata": {},
   "source": [
    "## now is the Decorator\n",
    "\n",
    "It is an easier way to realized the same complicated functionality above."
   ]
  },
  {
   "cell_type": "code",
   "execution_count": 7,
   "metadata": {
    "collapsed": false
   },
   "outputs": [
    {
     "name": "stdout",
     "output_type": "stream",
     "text": [
      "wrapper executed this before display2\n",
      "display function ran again\n"
     ]
    }
   ],
   "source": [
    "# A Decorator\n",
    "@decorator_function\n",
    "def display2():\n",
    "    print('display function ran again')\n",
    "    \n",
    "# putting @decorator_function right above the function to be decorated, is exactly the same as:\n",
    "# decorated_display2 = decorator_function(display2)\n",
    "# decorated_display2()\n",
    "\n",
    "display2()"
   ]
  },
  {
   "cell_type": "code",
   "execution_count": 15,
   "metadata": {
    "collapsed": false
   },
   "outputs": [
    {
     "name": "stdout",
     "output_type": "stream",
     "text": [
      "wrapper executed this before display_info\n",
      "display function ran with (John, 25)\n"
     ]
    }
   ],
   "source": [
    "# If the wrapper function takes arbitrary number of arguments\n",
    "def decorator_function2(original_function):\n",
    "    def wrapper_function(*args, **kwargs):\n",
    "        print('wrapper executed this before {}'.format(original_function.__name__))  ## Add some extra output\n",
    "        return original_function(*args, **kwargs)\n",
    "    return wrapper_function\n",
    "\n",
    "@decorator_function2\n",
    "def display_info(name, age):\n",
    "    print('display function ran with ({}, {})'.format(name,age))\n",
    "\n",
    "display_info('John',25)"
   ]
  },
  {
   "cell_type": "code",
   "execution_count": null,
   "metadata": {
    "collapsed": true
   },
   "outputs": [],
   "source": [
    "# Using class to create Decorator has the same effect\n",
    "\n",
    "# If the wrapper function takes arbitrary number of arguments\n",
    "class decorator_class():\n",
    "    def __init__():\n",
    "        \n",
    "        \n",
    "    def wrapper_function(*args, **kwargs):\n",
    "        print('wrapper executed this before {}'.format(original_function.__name__))  ## Add some extra output\n",
    "        return original_function(*args, **kwargs)\n",
    "    return wrapper_function\n",
    "\n",
    "@decorator_function2\n",
    "def display_info(name, age):\n",
    "    print('display function ran with ({}, {})'.format(name,age))\n",
    "\n",
    "display_info('John',25)"
   ]
  }
 ],
 "metadata": {
  "kernelspec": {
   "display_name": "Python 3",
   "language": "python",
   "name": "python3"
  },
  "language_info": {
   "codemirror_mode": {
    "name": "ipython",
    "version": 3
   },
   "file_extension": ".py",
   "mimetype": "text/x-python",
   "name": "python",
   "nbconvert_exporter": "python",
   "pygments_lexer": "ipython3",
   "version": "3.5.1"
  },
  "latex_envs": {
   "bibliofile": "biblio.bib",
   "cite_by": "apalike",
   "current_citInitial": 1,
   "eqLabelWithNumbers": true,
   "eqNumInitial": 0
  }
 },
 "nbformat": 4,
 "nbformat_minor": 0
}

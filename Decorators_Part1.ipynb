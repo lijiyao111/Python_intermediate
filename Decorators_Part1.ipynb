{
 "cells": [
  {
   "cell_type": "markdown",
   "metadata": {},
   "source": [
    "# Decorator introduction"
   ]
  },
  {
   "cell_type": "markdown",
   "metadata": {},
   "source": [
    "##  Closure\n",
    "**First-class function is the function that can be treated as any other objects, to be passed as an argument, or returned by another function, or assigned to a variable...**\n",
    "\n",
    "**Close is a nested functions, which returns one First-class function**"
   ]
  },
  {
   "cell_type": "code",
   "execution_count": 1,
   "metadata": {
    "collapsed": false
   },
   "outputs": [],
   "source": [
    "from JL_tools import print_title"
   ]
  },
  {
   "cell_type": "code",
   "execution_count": 2,
   "metadata": {
    "collapsed": false
   },
   "outputs": [
    {
     "name": "stdout",
     "output_type": "stream",
     "text": [
      "--------------------Closure--------------------\n",
      "Hi\n",
      "Bye\n"
     ]
    }
   ],
   "source": [
    "# Closure example\n",
    "\n",
    "def outer_function(msg):\n",
    "    message=msg\n",
    "    \n",
    "    def inner_function():\n",
    "        print(message)\n",
    "    return inner_function\n",
    "\n",
    "hi_func = outer_function('Hi')\n",
    "bye_func = outer_function('Bye')\n",
    "\n",
    "print_title('Closure')\n",
    "hi_func()\n",
    "bye_func()"
   ]
  },
  {
   "cell_type": "markdown",
   "metadata": {},
   "source": [
    "## Decorator function\n",
    "\n",
    "Decorator is a convenient ''Wrapper'', which take another function as an argument, adding some more functionality without modifying the original function."
   ]
  },
  {
   "cell_type": "code",
   "execution_count": 3,
   "metadata": {
    "collapsed": false
   },
   "outputs": [
    {
     "name": "stdout",
     "output_type": "stream",
     "text": [
      "--------------------Decorator function--------------------\n",
      "display function ran\n"
     ]
    }
   ],
   "source": [
    "# Decorator function return the wrapped function, which is waiting to be executed\n",
    "\n",
    "def decorator_function(original_function):\n",
    "    def wrapper_function():\n",
    "        return original_function()\n",
    "    return wrapper_function\n",
    "\n",
    "# A simple example of argument function\n",
    "def display():\n",
    "    print('display function ran')\n",
    "    \n",
    "print_title('Decorator function')  \n",
    "decorated_display = decorator_function(display)\n",
    "\n",
    "decorated_display()"
   ]
  },
  {
   "cell_type": "markdown",
   "metadata": {},
   "source": [
    "Now, Let's add some more functionalities!"
   ]
  },
  {
   "cell_type": "code",
   "execution_count": 4,
   "metadata": {
    "collapsed": false
   },
   "outputs": [
    {
     "name": "stdout",
     "output_type": "stream",
     "text": [
      "--------------------Decorator function--------------------\n",
      "wrapper executed this before display\n",
      "display function ran\n"
     ]
    }
   ],
   "source": [
    "def decorator_function(original_function):\n",
    "    def wrapper_function():\n",
    "        print('wrapper executed this before {}'.format(original_function.__name__))  ## Add some extra output\n",
    "        return original_function()\n",
    "    return wrapper_function\n",
    "\n",
    "print_title('Decorator function')    \n",
    "decorated_display = decorator_function(display)\n",
    "\n",
    "decorated_display()"
   ]
  },
  {
   "cell_type": "markdown",
   "metadata": {},
   "source": [
    "## now is the Decorator\n",
    "\n",
    "It is an easier way to realized the same complicated functionality above.\n",
    "\n",
    "```\n",
    "@decorator_function\n",
    "def display2():\n",
    "    print('display function ran again')\n",
    "\n",
    "display2()\n",
    "    \n",
    "putting @decorator_function right above the function to be decorated, is exactly the same as:\n",
    "decorated_display2 = decorator_function(display2)\n",
    "decorated_display2()\n",
    "```"
   ]
  },
  {
   "cell_type": "code",
   "execution_count": 5,
   "metadata": {
    "collapsed": false
   },
   "outputs": [
    {
     "name": "stdout",
     "output_type": "stream",
     "text": [
      "wrapper executed this before display2\n",
      "display function ran again\n"
     ]
    }
   ],
   "source": [
    "# A Decorator\n",
    "@decorator_function\n",
    "def display2():\n",
    "    print('display function ran again')\n",
    "    \n",
    "display2()\n",
    "    \n",
    "# putting @decorator_function right above the function to be decorated, is exactly the same as:\n",
    "# decorated_display2 = decorator_function(display2)\n",
    "# decorated_display2()"
   ]
  },
  {
   "cell_type": "code",
   "execution_count": 6,
   "metadata": {
    "collapsed": false
   },
   "outputs": [
    {
     "name": "stdout",
     "output_type": "stream",
     "text": [
      "--------------------wrapped function takes arbitrary number of arguments--------------------\n",
      "wrapper executed this before display_info\n",
      "display function ran with (John, 25)\n"
     ]
    }
   ],
   "source": [
    "# If the wrapper function takes arbitrary number of arguments\n",
    "def decorator_function2(original_function):\n",
    "    def wrapper_function(*args, **kwargs):\n",
    "        print('wrapper executed this before {}'.format(original_function.__name__))  ## Add some extra output\n",
    "        return original_function(*args, **kwargs)\n",
    "    return wrapper_function\n",
    "\n",
    "@decorator_function2\n",
    "def display_info(name, age):\n",
    "    print('display function ran with ({}, {})'.format(name,age))\n",
    "\n",
    "print_title('wrapped function takes arbitrary number of arguments')\n",
    "display_info('John',25)"
   ]
  },
  {
   "cell_type": "code",
   "execution_count": 7,
   "metadata": {
    "collapsed": false
   },
   "outputs": [
    {
     "name": "stdout",
     "output_type": "stream",
     "text": [
      "--------------------Decorator class has the same effect as Decorator function--------------------\n",
      "wrapper executed this before display\n",
      "display function ran\n",
      "Function name is display\n",
      "call method executed this before display_info\n",
      "display_info ran with arguments (John, 25)\n"
     ]
    }
   ],
   "source": [
    "# Using class to create Decorator has the same effect\n",
    "\n",
    "# If the wrapper function takes arbitrary number of arguments\n",
    "from functools import wraps\n",
    "\n",
    "def decorator_function(original_function):\n",
    "    @wraps(original_function)  # This is to let the wrapped function display its own name\n",
    "    def wrapper_function(*args, **kwargs):\n",
    "        print('wrapper executed this before {}'.format(original_function.__name__))\n",
    "        return original_function(*args, **kwargs)\n",
    "    return wrapper_function\n",
    "\n",
    "  \n",
    "# Using decorator class, the same effect\n",
    "class decorator_class():\n",
    "    def __init__(self, original_function):\n",
    "        self.original_function = original_function\n",
    "\n",
    "    def __call__(self, *args, **kwargs):\n",
    "        print('call method executed this before {}'.format(self.original_function.__name__))\n",
    "        return self.original_function(*args, **kwargs)\n",
    "\n",
    "@decorator_function\n",
    "def display():\n",
    "    print('display function ran')\n",
    "\n",
    "print_title('Decorator class has the same effect as Decorator function')\n",
    "@decorator_class\n",
    "def display_info(name, age):\n",
    "    print('display_info ran with arguments ({}, {})'.format(name, age))\n",
    "\n",
    "display()\n",
    "print('Function name is {}'.format(display.__name__))\n",
    "\n",
    "display_info('John',25)"
   ]
  },
  {
   "cell_type": "markdown",
   "metadata": {},
   "source": [
    "## @wraps\n",
    "\n",
    "@wraps is a convenient decorator to fix the name of the wrapped function and nested wrapper\n",
    "\n",
    "putting double or even more decorators, such as\n",
    "```\n",
    "@my_timer\n",
    "@my_logger  # without wraps in the wrappers, this will be wrong\n",
    "def display_info(name, age):\n",
    "    print('display_info ran with arguments ({}, {})'.format(name, age))\n",
    "```\n",
    "\n",
    "is the same as\n",
    "```\n",
    "my_display=my_timer(my_logger(display_info)) \n",
    "```"
   ]
  },
  {
   "cell_type": "code",
   "execution_count": 8,
   "metadata": {
    "collapsed": false
   },
   "outputs": [
    {
     "name": "stdout",
     "output_type": "stream",
     "text": [
      "--------------------using @wraps generate the correct __name__ and functionality of nested decorators--------------------\n",
      "display_info ran with arguments (John, 25)\n",
      "wrapper ran in : 0.0 sec\n",
      "Function name is wrapper\n"
     ]
    }
   ],
   "source": [
    "def my_logger(orig_func):\n",
    "    import logging\n",
    "    logging.basicConfig(filename='{}.log'.format(orig_func.__name__), level=logging.INFO)\n",
    "\n",
    "#     @wraps(orig_func)\n",
    "    def wrapper(*args, **kwargs):\n",
    "        logging.info('Ran with args: {}, and kwargs: {}'.format(args,kwargs))\n",
    "        return orig_func(*args, **kwargs)\n",
    "    return wrapper\n",
    "\n",
    "\n",
    "def my_timer(orig_func):\n",
    "    import time\n",
    "\n",
    "#     @wraps(orig_func)\n",
    "    def wrapper(*args, **kwargs):\n",
    "        t1 = time.time()\n",
    "        result = orig_func(*args, **kwargs)\n",
    "        t2 = time.time()-t1\n",
    "        print('{} ran in : {} sec'.format(orig_func.__name__, t2))\n",
    "        return result\n",
    "    return wrapper\n",
    "\n",
    "@my_timer\n",
    "@my_logger  # without wraps in the wrappers, this will be wrong\n",
    "def display_info(name, age):\n",
    "    print('display_info ran with arguments ({}, {})'.format(name, age))\n",
    "\n",
    "print_title('using @wraps generate the correct __name__ and functionality of nested decorators')\n",
    "display_info('John',25)\n",
    "print('Function name is {}'.format(display_info.__name__))\n",
    "\n",
    "# my_display=my_timer(my_logger(display_info))  # Actually the wrapper function of my_logger is passed to my_timer\n",
    "# my_display('John',25)\n",
    "# print(my_display.__name__)"
   ]
  },
  {
   "cell_type": "code",
   "execution_count": 9,
   "metadata": {
    "collapsed": false
   },
   "outputs": [
    {
     "name": "stdout",
     "output_type": "stream",
     "text": [
      "--------------------using @wraps generate the correct __name__ and functionality of nested decorators--------------------\n",
      "display_info ran with arguments (John, 25)\n",
      "display_info ran in : 0.0 sec\n",
      "Function name is display_info\n"
     ]
    }
   ],
   "source": [
    "def my_logger(orig_func):\n",
    "    import logging\n",
    "    logging.basicConfig(filename='{}.log'.format(orig_func.__name__), level=logging.INFO)\n",
    "\n",
    "    @wraps(orig_func)\n",
    "    def wrapper(*args, **kwargs):\n",
    "        logging.info('Ran with args: {}, and kwargs: {}'.format(args,kwargs))\n",
    "        return orig_func(*args, **kwargs)\n",
    "    return wrapper\n",
    "\n",
    "\n",
    "def my_timer(orig_func):\n",
    "    import time\n",
    "\n",
    "    @wraps(orig_func)\n",
    "    def wrapper(*args, **kwargs):\n",
    "        t1 = time.time()\n",
    "        result = orig_func(*args, **kwargs)\n",
    "        t2 = time.time()-t1\n",
    "        print('{} ran in : {} sec'.format(orig_func.__name__, t2))\n",
    "        return result\n",
    "    return wrapper\n",
    "\n",
    "@my_timer\n",
    "@my_logger  # without wraps in the wrappers, this will be wrong\n",
    "def display_info(name, age):\n",
    "    print('display_info ran with arguments ({}, {})'.format(name, age))\n",
    "\n",
    "print_title('using @wraps generate the correct __name__ and functionality of nested decorators')\n",
    "display_info('John',25)\n",
    "print('Function name is {}'.format(display_info.__name__))\n",
    "\n",
    "# my_display=my_timer(my_logger(display_info))  # Actually the wrapper function of my_logger is passed to my_timer\n",
    "# my_display('John',25)\n",
    "# print(my_display.__name__)"
   ]
  }
 ],
 "metadata": {
  "anaconda-cloud": {},
  "kernelspec": {
   "display_name": "Python [default]",
   "language": "python",
   "name": "python3"
  },
  "language_info": {
   "codemirror_mode": {
    "name": "ipython",
    "version": 3
   },
   "file_extension": ".py",
   "mimetype": "text/x-python",
   "name": "python",
   "nbconvert_exporter": "python",
   "pygments_lexer": "ipython3",
   "version": "3.5.2"
  },
  "latex_envs": {
   "bibliofile": "biblio.bib",
   "cite_by": "apalike",
   "current_citInitial": 1,
   "eqLabelWithNumbers": true,
   "eqNumInitial": 0
  }
 },
 "nbformat": 4,
 "nbformat_minor": 0
}

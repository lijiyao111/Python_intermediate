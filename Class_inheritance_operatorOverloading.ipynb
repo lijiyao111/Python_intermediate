{
 "cells": [
  {
   "cell_type": "markdown",
   "metadata": {},
   "source": [
    "# Inheritance"
   ]
  },
  {
   "cell_type": "code",
   "execution_count": 1,
   "metadata": {
    "collapsed": true
   },
   "outputs": [],
   "source": [
    "from JL_tools import print_title"
   ]
  },
  {
   "cell_type": "code",
   "execution_count": 2,
   "metadata": {
    "collapsed": false
   },
   "outputs": [
    {
     "name": "stdout",
     "output_type": "stream",
     "text": [
      "Jerry.Li@company.com\n",
      "Jim.Lin@company.com\n",
      "--------------------raise salary for developer--------------------\n",
      "5000\n",
      "5500\n",
      "--------------------Look at what methods and attributes the derived class instance has, AND the order--------------------\n",
      "Help on Developer in module __main__ object:\n",
      "\n",
      "class Developer(Employee)\n",
      " |  Method resolution order:\n",
      " |      Developer\n",
      " |      Employee\n",
      " |      builtins.object\n",
      " |  \n",
      " |  Data and other attributes defined here:\n",
      " |  \n",
      " |  raise_amount = 1.1\n",
      " |  \n",
      " |  ----------------------------------------------------------------------\n",
      " |  Methods inherited from Employee:\n",
      " |  \n",
      " |  __init__(self, first, last, pay)\n",
      " |      Initialize self.  See help(type(self)) for accurate signature.\n",
      " |  \n",
      " |  apply_raise(self)\n",
      " |  \n",
      " |  fullname(self)\n",
      " |  \n",
      " |  ----------------------------------------------------------------------\n",
      " |  Data descriptors inherited from Employee:\n",
      " |  \n",
      " |  __dict__\n",
      " |      dictionary for instance variables (if defined)\n",
      " |  \n",
      " |  __weakref__\n",
      " |      list of weak references to the object (if defined)\n",
      "\n",
      "None\n"
     ]
    }
   ],
   "source": [
    "class Employee:\n",
    "    \n",
    "    raise_amount = 1.04  ## this is class variable\n",
    "    \n",
    "    def __init__(self, first, last, pay):\n",
    "        self.first = first\n",
    "        self.last = last\n",
    "        self.pay = pay\n",
    "        self.email = first + '.' + last + '@company.com'\n",
    "        \n",
    "    def fullname(self):\n",
    "        return '{} {}'.format(self.first, self.last)\n",
    "    \n",
    "    def apply_raise(self):\n",
    "        self.pay = int(self.pay * self.raise_amount)\n",
    "        \n",
    "class Developer(Employee):\n",
    "    raise_amount = 1.10\n",
    "\n",
    "dev_1 = Developer('Jerry', 'Li', 5000 )\n",
    "dev_2 = Developer('Jim', 'Lin', 6000 )\n",
    "\n",
    "print(dev_1.email)\n",
    "print(dev_2.email)\n",
    "\n",
    "print_title('raise salary for developer')\n",
    "print(dev_1.pay)\n",
    "dev_1.apply_raise()\n",
    "print(dev_1.pay)\n",
    "\n",
    "print_title('Look at what methods and attributes the derived class instance has, AND the order')\n",
    "print(help(dev_1))"
   ]
  },
  {
   "cell_type": "code",
   "execution_count": 3,
   "metadata": {
    "collapsed": false
   },
   "outputs": [
    {
     "name": "stdout",
     "output_type": "stream",
     "text": [
      "Sue.Smith@company.com\n",
      "-->Jim Lin\n",
      "--------------------Check if an instance belongs to a class--------------------\n",
      "True\n",
      "True\n",
      "False\n",
      "--------------------Check if a class is derived from another class--------------------\n",
      "True\n",
      "False\n"
     ]
    }
   ],
   "source": [
    "class Employee:\n",
    "    \n",
    "    raise_amount = 1.04  ## this is class variable\n",
    "    \n",
    "    def __init__(self, first, last, pay):\n",
    "        self.first = first\n",
    "        self.last = last\n",
    "        self.pay = pay\n",
    "        self.email = first + '.' + last + '@company.com'\n",
    "        \n",
    "    def fullname(self):\n",
    "        return '{} {}'.format(self.first, self.last)\n",
    "    \n",
    "    def apply_raise(self):\n",
    "        self.pay = int(self.pay * self.raise_amount)\n",
    "        \n",
    "class Developer(Employee):\n",
    "    raise_amount = 1.10\n",
    "    \n",
    "    def __init__(self, first, last, pay, prog_lang):\n",
    "        super().__init__(first, last, pay)\n",
    "        self.prog_lang = prog_lang\n",
    "        \n",
    "class Manager(Employee):\n",
    "    \n",
    "    def __init__(self, first, last, pay, employees=None):\n",
    "        super().__init__(first, last, pay)\n",
    "        if employees is None:\n",
    "            self.employees = []\n",
    "        else:\n",
    "            self.employees = employees\n",
    "            \n",
    "    def add_emp(self, emp):\n",
    "        if emp not in self.employees:\n",
    "            self.employees.append(emp)\n",
    "            \n",
    "    def remove_emp(self, emp):\n",
    "        if emp in self.employees:\n",
    "            self.employees.remove(emp)\n",
    "            \n",
    "    def print_emps(self):\n",
    "        for emp in self.employees:\n",
    "            print('-->{}'.format(emp.fullname()))\n",
    "\n",
    "\n",
    "dev_1 = Developer('Jerry', 'Li', 5000 , 'Python')\n",
    "dev_2 = Developer('Jim', 'Lin', 6000 , 'C++')\n",
    "\n",
    "mgr_1 = Manager('Sue', 'Smith', 9000, [dev_1])\n",
    "\n",
    "print(mgr_1.email)\n",
    "\n",
    "mgr_1.add_emp(dev_2)\n",
    "mgr_1.remove_emp(dev_1)\n",
    "mgr_1.print_emps()\n",
    "\n",
    "print_title('Check if an instance belongs to a class')\n",
    "print(isinstance(dev_1, Employee))\n",
    "print(isinstance(dev_1, Developer))\n",
    "print(isinstance(dev_1, Manager))\n",
    "\n",
    "print_title('Check if a class is derived from another class')\n",
    "print(issubclass(Developer, Employee))\n",
    "print(issubclass(Developer, Manager))"
   ]
  },
  {
   "cell_type": "markdown",
   "metadata": {},
   "source": [
    "# Special methods. Operator overloading"
   ]
  },
  {
   "cell_type": "code",
   "execution_count": 4,
   "metadata": {
    "collapsed": false
   },
   "outputs": [
    {
     "name": "stdout",
     "output_type": "stream",
     "text": [
      "--------------------__str__ method--------------------\n",
      "Jerry Li - Jerry.Li@company.com\n",
      "Jerry Li - Jerry.Li@company.com\n",
      "--------------------__repr__ method--------------------\n",
      "Employee('Jerry', 'Li', 5000)\n",
      "--------------------__len__ method--------------------\n",
      "8\n",
      "--------------------Add to instance--------------------\n",
      "11000\n"
     ]
    }
   ],
   "source": [
    "class Employee:\n",
    "    \n",
    "    raise_amount = 1.04  ## this is class variable\n",
    "    \n",
    "    def __init__(self, first, last, pay):\n",
    "        self.first = first\n",
    "        self.last = last\n",
    "        self.pay = pay\n",
    "        self.email = first + '.' + last + '@company.com'\n",
    "        \n",
    "    def fullname(self):\n",
    "        return '{} {}'.format(self.first, self.last)\n",
    "    \n",
    "    def apply_raise(self):\n",
    "        self.pay = int(self.pay * self.raise_amount)\n",
    "        \n",
    "    def __add__(self, other):\n",
    "        return self.pay + other.pay\n",
    "    \n",
    "    def __len__(self):\n",
    "        return len(self.fullname())\n",
    "    \n",
    "    def __repr__(self):\n",
    "        return \"Employee('{}', '{}', {})\".format(self.first, self.last, self.pay)\n",
    "    \n",
    "    def __str__(self):\n",
    "        return '{} - {}'.format(self.fullname(), self.email)\n",
    "        \n",
    "emp_1 = Employee('Jerry', 'Li', 5000 )\n",
    "emp_2 = Employee('Jim', 'Lin', 6000 )     \n",
    "\n",
    "print_title('__str__ method')\n",
    "print(emp_1)\n",
    "print(str(emp_1))\n",
    "\n",
    "print_title('__repr__ method')\n",
    "print(repr(emp_1))\n",
    "\n",
    "print_title('__len__ method')\n",
    "print(len(emp_1))\n",
    "\n",
    "print_title('Add to instance')\n",
    "print(emp_1 + emp_2)"
   ]
  }
 ],
 "metadata": {
  "kernelspec": {
   "display_name": "Python [default]",
   "language": "python",
   "name": "python3"
  },
  "language_info": {
   "codemirror_mode": {
    "name": "ipython",
    "version": 3
   },
   "file_extension": ".py",
   "mimetype": "text/x-python",
   "name": "python",
   "nbconvert_exporter": "python",
   "pygments_lexer": "ipython3",
   "version": "3.5.2"
  }
 },
 "nbformat": 4,
 "nbformat_minor": 1
}

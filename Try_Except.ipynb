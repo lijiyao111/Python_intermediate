{
 "cells": [
  {
   "cell_type": "markdown",
   "metadata": {},
   "source": [
    "# Handle error exception"
   ]
  },
  {
   "cell_type": "code",
   "execution_count": 1,
   "metadata": {
    "collapsed": true
   },
   "outputs": [],
   "source": [
    "## Overall structure\n",
    "try:\n",
    "    pass\n",
    "except Exception:\n",
    "    pass\n",
    "else:\n",
    "    pass\n",
    "finally:\n",
    "    pass"
   ]
  },
  {
   "cell_type": "code",
   "execution_count": 2,
   "metadata": {
    "collapsed": false
   },
   "outputs": [
    {
     "name": "stdout",
     "output_type": "stream",
     "text": [
      "----------------------------------------undefined variable----------------------------------------\n",
      "Other errors: name 'bad_var' is not defined\n",
      "----------------------------------------file not exist----------------------------------------\n",
      "Sorry, this file does not exist.\n",
      "------------------------------try will only raise the first error.------------------------------\n",
      "Sorry, this file does not exist.\n"
     ]
    }
   ],
   "source": [
    "## undefined variable\n",
    "print(40*'-'+'undefined variable'+40*'-')\n",
    "try:\n",
    "    var = bad_var\n",
    "except Exception as e:\n",
    "    print('Other errors:',e)\n",
    "\n",
    "## file not exist\n",
    "print(40*'-'+'file not exist'+40*'-')\n",
    "try:\n",
    "    f = open('this_file_not_exist.txt')\n",
    "    var = bad_var\n",
    "except FileNotFoundError:\n",
    "    print('Sorry, this file does not exist.')\n",
    "\n",
    "\n",
    "## try will only raise the first error.\n",
    "print(30*'-'+'try will only raise the first error.'+30*'-')\n",
    "\n",
    "try:\n",
    "    f = open('this_file_not_exist.txt')\n",
    "    var = bad_var  # This error is not raised\n",
    "except FileNotFoundError:\n",
    "    print('Sorry, this file does not exist.')\n",
    "except Exception as e:\n",
    "    print('Other errors:',e)"
   ]
  },
  {
   "cell_type": "code",
   "execution_count": 3,
   "metadata": {
    "collapsed": false
   },
   "outputs": [
    {
     "name": "stdout",
     "output_type": "stream",
     "text": [
      "------------------------------no error, and finally statement------------------------------\n",
      "No error.\n",
      "Move on, no mater there is error or not!\n"
     ]
    }
   ],
   "source": [
    "## no error, and finally statement\n",
    "print(30*'-'+'no error, and finally statement'+30*'-')\n",
    "try:\n",
    "    var = 1\n",
    "except Exception as e:\n",
    "    print('Errors:',e)\n",
    "else:\n",
    "    print('No error.')\n",
    "finally:\n",
    "    print('Move on, no mater there is error or not!')"
   ]
  },
  {
   "cell_type": "code",
   "execution_count": 4,
   "metadata": {
    "collapsed": false
   },
   "outputs": [
    {
     "name": "stdout",
     "output_type": "stream",
     "text": [
      "------------------------------Raise your own exception.------------------------------\n",
      "Errors: My error.\n",
      "Move on, no mater there is error or not!\n"
     ]
    }
   ],
   "source": [
    "# Raise your own exception.\n",
    "print(30*'-'+'Raise your own exception.'+30*'-')\n",
    "\n",
    "try:\n",
    "    var = 1\n",
    "    if var == 1:\n",
    "        raise Exception('My error.')\n",
    "except Exception as e:\n",
    "    print('Errors:',e)\n",
    "else:\n",
    "    print('No error.')\n",
    "finally:\n",
    "    print('Move on, no mater there is error or not!')"
   ]
  }
 ],
 "metadata": {
  "kernelspec": {
   "display_name": "Python 3",
   "language": "python",
   "name": "python3"
  },
  "language_info": {
   "codemirror_mode": {
    "name": "ipython",
    "version": 3
   },
   "file_extension": ".py",
   "mimetype": "text/x-python",
   "name": "python",
   "nbconvert_exporter": "python",
   "pygments_lexer": "ipython3",
   "version": "3.5.1"
  },
  "latex_envs": {
   "bibliofile": "biblio.bib",
   "cite_by": "apalike",
   "current_citInitial": 1,
   "eqLabelWithNumbers": true,
   "eqNumInitial": 0
  }
 },
 "nbformat": 4,
 "nbformat_minor": 0
}

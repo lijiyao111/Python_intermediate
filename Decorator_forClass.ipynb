{
 "cells": [
  {
   "cell_type": "markdown",
   "metadata": {},
   "source": [
    "# Property Decorators\n",
    "\n",
    "Making the the usage of the class unchanged, after changine the class.\n",
    "\n",
    "With property decorators, we can access the class methods as accessing its attributes"
   ]
  },
  {
   "cell_type": "code",
   "execution_count": 1,
   "metadata": {
    "collapsed": false
   },
   "outputs": [
    {
     "name": "stdout",
     "output_type": "stream",
     "text": [
      "Jim\n",
      "John.Smith@email.com\n",
      "Jim Smith\n"
     ]
    }
   ],
   "source": [
    "class Employee:\n",
    "    \n",
    "    def __init__(self, first, last):\n",
    "        self.first = first\n",
    "        self.last = last\n",
    "        self.email = first + '.' + last + '@email.com'\n",
    "        \n",
    "    def fullname(self):\n",
    "        return '{} {}'.format(self.first, self.last)\n",
    "\n",
    "emp_1 = Employee('John', 'Smith')\n",
    "emp_1.first = 'Jim'\n",
    "\n",
    "# The problem is that although the first name is changed, the first name related to the eamil is not changed\n",
    "# in order to do so, need to make another function similar to fullname()\n",
    "print(emp_1.first)\n",
    "print(emp_1.email)\n",
    "print(emp_1.fullname())"
   ]
  },
  {
   "cell_type": "code",
   "execution_count": 14,
   "metadata": {
    "collapsed": false
   },
   "outputs": [
    {
     "name": "stdout",
     "output_type": "stream",
     "text": [
      "Jim\n",
      "--------------------Property Decorator--------------------\n",
      "Jim.Smith@email.com\n",
      "Jim Smith\n",
      "--------------------Setter Decorator--------------------\n",
      "Jerry Lin\n",
      "--------------------Detter Decorator--------------------\n",
      "Delete name!\n",
      "None None\n"
     ]
    }
   ],
   "source": [
    "class Employee:\n",
    "    \n",
    "    def __init__(self, first, last):\n",
    "        self.first = first\n",
    "        self.last = last\n",
    "#         self.email = first + '.' + last + '@email.com' ## remove this line\n",
    "\n",
    "    @property\n",
    "    def email(self):\n",
    "        return '{}.{}@email.com'.format(self.first, self.last)\n",
    "    \n",
    "    @property    ## in order for Setter and Deleter to work, @property is required\n",
    "    def fullname(self):\n",
    "        return '{} {}'.format(self.first, self.last)\n",
    "    \n",
    "    @fullname.setter\n",
    "    def fullname(self, name):\n",
    "        self.first, self.last = name.split(' ')\n",
    "        \n",
    "    @fullname.deleter\n",
    "    def fullname(self):\n",
    "        print('Delete name!')\n",
    "        self.first, self.last = None, None\n",
    "\n",
    "\n",
    "emp_1 = Employee('John', 'Smith')\n",
    "emp_1.first = 'Jim'\n",
    "\n",
    "# The problem is that although the first name is changed, the first name related to the eamil is not changed\n",
    "# in order to do so, need to make another function similar to fullname()\n",
    "print(emp_1.first)\n",
    "## Property decorator\n",
    "print(20*'-'+'Property Decorator'+20*'-')\n",
    "print(emp_1.email)\n",
    "# print(emp_1.email()) ## without the @property decorator, the function call format is required\n",
    "print(emp_1.fullname)\n",
    "# print(emp_1.fullname())\n",
    "\n",
    "## Setter decorator\n",
    "print(20*'-'+'Setter Decorator'+20*'-')\n",
    "emp_1.fullname='Jerry Lin'\n",
    "print(emp_1.fullname)\n",
    "\n",
    "## Deleter decorator\n",
    "print(20*'-'+'Detter Decorator'+20*'-')\n",
    "del emp_1.fullname\n",
    "print(emp_1.fullname)"
   ]
  }
 ],
 "metadata": {
  "kernelspec": {
   "display_name": "Python 3",
   "language": "python",
   "name": "python3"
  },
  "language_info": {
   "codemirror_mode": {
    "name": "ipython",
    "version": 3
   },
   "file_extension": ".py",
   "mimetype": "text/x-python",
   "name": "python",
   "nbconvert_exporter": "python",
   "pygments_lexer": "ipython3",
   "version": "3.5.1"
  },
  "latex_envs": {
   "bibliofile": "biblio.bib",
   "cite_by": "apalike",
   "current_citInitial": 1,
   "eqLabelWithNumbers": true,
   "eqNumInitial": 0
  }
 },
 "nbformat": 4,
 "nbformat_minor": 0
}

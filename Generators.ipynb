{
 "cells": [
  {
   "cell_type": "markdown",
   "metadata": {},
   "source": [
    "# Generators"
   ]
  },
  {
   "cell_type": "markdown",
   "metadata": {},
   "source": [
    "Generator is defined in a similar way as a normal function. But it use **yield** rather than **return** to give output. Once it reaches yield, it pauses, until **next()** is called."
   ]
  },
  {
   "cell_type": "code",
   "execution_count": 1,
   "metadata": {
    "collapsed": false
   },
   "outputs": [
    {
     "name": "stdout",
     "output_type": "stream",
     "text": [
      "[1, 4, 9, 16, 25]\n",
      "Used in for loop:\n",
      "1\n",
      "4\n",
      "9\n",
      "16\n",
      "25\n"
     ]
    }
   ],
   "source": [
    "numbers=[1,2,3,4,5]\n",
    "\n",
    "def square_numbers(nums):\n",
    "    result=[]\n",
    "    for i in nums:\n",
    "        result.append(i*i)\n",
    "    return result\n",
    "\n",
    "my_nums = square_numbers(numbers)\n",
    "# This is equivalent to using list comprehensions:\n",
    "# my_nums = [n*n for n in numbers]\n",
    "# using the verbose form is to illustrate the Generator\n",
    "\n",
    "my_nums = square_numbers(numbers)\n",
    "\n",
    "print(my_nums)\n",
    "\n",
    "print('Used in for loop:')\n",
    "for n in my_nums:\n",
    "    print(n)"
   ]
  },
  {
   "cell_type": "code",
   "execution_count": 2,
   "metadata": {
    "collapsed": false
   },
   "outputs": [
    {
     "name": "stdout",
     "output_type": "stream",
     "text": [
      "<generator object square_numbers_gen at 0x000000000449EB48>\n",
      "1\n",
      "4\n",
      "9\n",
      "16\n",
      "25\n",
      "Generator can be transfered into list:\n",
      "[1, 4, 9, 16, 25]\n",
      "Used in for loop:\n",
      "1\n",
      "4\n",
      "9\n",
      "16\n",
      "25\n"
     ]
    }
   ],
   "source": [
    "def square_numbers_gen(nums):\n",
    "    for i in nums:\n",
    "        yield i*i\n",
    "\n",
    "my_nums = square_numbers_gen(numbers)\n",
    "\n",
    "print(my_nums)\n",
    "print(next(my_nums))\n",
    "print(next(my_nums))\n",
    "print(next(my_nums))\n",
    "print(next(my_nums))\n",
    "print(next(my_nums))\n",
    "# print(next(my_nums))  # this will raise StopIteration error!\n",
    "\n",
    "print('Generator can be transfered into list:')\n",
    "print(list(square_numbers_gen(numbers)))\n",
    "\n",
    "print('Used in for loop:')\n",
    "my_nums2 = square_numbers_gen(numbers)\n",
    "for n in my_nums2:\n",
    "    print(n)"
   ]
  },
  {
   "cell_type": "markdown",
   "metadata": {},
   "source": [
    "# Advantage of Generator\n",
    "\n",
    "Generator does not need to create the space of memory to store the whole list. Thus it saves space and also time. However, once converting Generator into a list using ```list()```, this performence advantage is gone."
   ]
  },
  {
   "cell_type": "code",
   "execution_count": 3,
   "metadata": {
    "collapsed": true
   },
   "outputs": [],
   "source": [
    "import random \n",
    "import time\n",
    "\n",
    "names='abcdefgh'\n",
    "majors='bcdefghi'\n",
    "\n",
    "def people_list(num_people):\n",
    "    result = []\n",
    "    for i in range(num_people):\n",
    "        person = {\n",
    "            'id': i,\n",
    "            'name': random.choice(names),\n",
    "            'major': random.choice(majors)\n",
    "        }\n",
    "        result.append(person)\n",
    "    return result\n",
    "\n",
    "def people_generator(num_people):\n",
    "    for i in range(num_people):\n",
    "        person = {\n",
    "            'id': i,\n",
    "            'name': random.choice(names),\n",
    "            'major': random.choice(majors)\n",
    "        }\n",
    "        yield person\n",
    "    "
   ]
  },
  {
   "cell_type": "code",
   "execution_count": 4,
   "metadata": {
    "collapsed": false
   },
   "outputs": [
    {
     "name": "stdout",
     "output_type": "stream",
     "text": [
      "List creation takes time of 2.642904081497036s.\n",
      "Generator creation takes time of 0.07801550493112552s.\n",
      "----------------------------------------However----------------------------------------\n",
      "Converting Generator into List takes time of 2.6128755968281308s.\n"
     ]
    }
   ],
   "source": [
    "t1 = time.clock()\n",
    "people=people_list(1000000)\n",
    "t2 = time.clock()\n",
    "\n",
    "print('List creation takes time of {}s.'.format(t2-t1))\n",
    "\n",
    "t1 = time.clock()\n",
    "people=people_generator(1000000)\n",
    "t2 = time.clock()\n",
    "\n",
    "print('Generator creation takes time of {}s.'.format(t2-t1))\n",
    "\n",
    "print(40*'-'+'However'+40*'-')\n",
    "t1 = time.clock()\n",
    "people=list(people_generator(1000000))\n",
    "t2 = time.clock()\n",
    "\n",
    "print('Converting Generator into List takes time of {}s.'.format(t2-t1))"
   ]
  },
  {
   "cell_type": "markdown",
   "metadata": {},
   "source": [
    "## comments:\n",
    "\n",
    "The advantage is not just less time. The consumed memory is also much less, but is not measured here. "
   ]
  },
  {
   "cell_type": "markdown",
   "metadata": {},
   "source": [
    "# Generator expression vs List comprehension in performence\n",
    "\n",
    "Generator expression also has the same advantage over List comprehension"
   ]
  },
  {
   "cell_type": "code",
   "execution_count": 5,
   "metadata": {
    "collapsed": false
   },
   "outputs": [
    {
     "name": "stdout",
     "output_type": "stream",
     "text": [
      "List is [0, 1, 2, 3, 4, 5, 6, 7, 8, 9]\n",
      "Generator is <generator object <genexpr> at 0x000000000449EDB0>\n",
      "\n"
     ]
    }
   ],
   "source": [
    "num_list=[n for n in range(10)]\n",
    "print('List is {}'.format(num_list))\n",
    "\n",
    "num_generator=(n for n in range(10))\n",
    "print('Generator is {}'.format(num_generator))\n",
    "\n",
    "print('')"
   ]
  },
  {
   "cell_type": "markdown",
   "metadata": {},
   "source": [
    "# One more word about Iterator\n",
    "\n",
    "In for loop, the iter() function is called for the iterable, then each iteration, call next()."
   ]
  },
  {
   "cell_type": "code",
   "execution_count": 6,
   "metadata": {
    "collapsed": false
   },
   "outputs": [
    {
     "name": "stdout",
     "output_type": "stream",
     "text": [
      "m\n",
      "a\n",
      "p\n",
      "s\n"
     ]
    }
   ],
   "source": [
    "class Reverse:\n",
    "    \"\"\"Iterator for looping over a sequence backwards.\"\"\"\n",
    "    def __init__(self, data):\n",
    "        self.data = data\n",
    "        self.index = len(data)\n",
    "\n",
    "    def __iter__(self):\n",
    "        return self\n",
    "\n",
    "    def __next__(self):\n",
    "        if self.index == 0:\n",
    "            raise StopIteration\n",
    "        self.index = self.index - 1\n",
    "        return self.data[self.index]\n",
    "    \n",
    "rev = Reverse('spam')\n",
    "iter(rev)\n",
    "print(next(rev))\n",
    "print(next(rev))\n",
    "print(next(rev))\n",
    "print(next(rev))\n"
   ]
  }
 ],
 "metadata": {
  "anaconda-cloud": {},
  "kernelspec": {
   "display_name": "Python [default]",
   "language": "python",
   "name": "python3"
  },
  "language_info": {
   "codemirror_mode": {
    "name": "ipython",
    "version": 3
   },
   "file_extension": ".py",
   "mimetype": "text/x-python",
   "name": "python",
   "nbconvert_exporter": "python",
   "pygments_lexer": "ipython3",
   "version": "3.5.2"
  },
  "latex_envs": {
   "bibliofile": "biblio.bib",
   "cite_by": "apalike",
   "current_citInitial": 1,
   "eqLabelWithNumbers": true,
   "eqNumInitial": 0
  }
 },
 "nbformat": 4,
 "nbformat_minor": 0
}

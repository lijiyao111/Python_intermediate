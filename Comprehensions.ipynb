{
 "cells": [
  {
   "cell_type": "markdown",
   "metadata": {},
   "source": [
    "# List comprehensions"
   ]
  },
  {
   "cell_type": "markdown",
   "metadata": {},
   "source": [
    "## warm-up"
   ]
  },
  {
   "cell_type": "code",
   "execution_count": 8,
   "metadata": {
    "collapsed": false
   },
   "outputs": [
    {
     "name": "stdout",
     "output_type": "stream",
     "text": [
      "Simple list comprehension:\n",
      "[1, 2, 3, 4, 5, 6, 7, 8, 9, 10]\n",
      "Computation within list comprehension (squared):\n",
      "[1, 4, 9, 16, 25, 36, 49, 64, 81, 100]\n",
      "Using map and lambda to calculate squared:\n",
      "[1, 4, 9, 16, 25, 36, 49, 64, 81, 100]\n"
     ]
    }
   ],
   "source": [
    "nums = [1,2,3,4,5,6,7,8,9,10]\n",
    "\n",
    "my_list = [n for n in nums]\n",
    "print('Simple list comprehension:')\n",
    "print(my_list)\n",
    "\n",
    "my_list = [n*n for n in nums]\n",
    "print('Computation within list comprehension (squared):')\n",
    "print(my_list)\n",
    "\n",
    "# Or use map + lambda (more complicated and less easy to read)\n",
    "my_list=map(lambda n: n*n, nums) # This returns a map object, which is an iterator!\n",
    "my_list = list(my_list)\n",
    "print('Using map and lambda to calculate squared:')\n",
    "print(my_list)\n"
   ]
  },
  {
   "cell_type": "markdown",
   "metadata": {},
   "source": [
    "## list comprehensions with conditions (if or if else)"
   ]
  },
  {
   "cell_type": "code",
   "execution_count": 16,
   "metadata": {
    "collapsed": false
   },
   "outputs": [
    {
     "name": "stdout",
     "output_type": "stream",
     "text": [
      "Select only even numbers, with if:\n",
      "[2, 4, 6, 8, 10]\n",
      "filter + lambda:\n",
      "[2, 4, 6, 8, 10]\n",
      "Select only even numbers, with if else:\n",
      "[-999, 2, -999, 4, -999, 6, -999, 8, -999, 10]\n"
     ]
    }
   ],
   "source": [
    "nums = [1,2,3,4,5,6,7,8,9,10]\n",
    "\n",
    "# output even numbers, if should be on the right of for\n",
    "my_list = [n for n in nums if n%2 == 0]\n",
    "# my_list = [n  if n%2 == 0 for n in nums]  ## Error!!\n",
    "print('Select only even numbers, with if:')\n",
    "print(my_list)\n",
    "\n",
    "# can also be achieved with filter + lambda\n",
    "my_list = filter(lambda n: n%2==0,nums) # This returns a filter object, which is an iterator!\n",
    "my_list = list(my_list)\n",
    "print('filter + lambda:')\n",
    "print(my_list)\n",
    "\n",
    "# output even numbers, if else should be on the left of for\n",
    "# my_list = [n for n in nums if n%2 == 0 else -999] ## Error!!\n",
    "my_list = [n  if n%2 == 0 else -999 for n in nums]  \n",
    "print('Select only even numbers, with if else:')\n",
    "print(my_list)"
   ]
  },
  {
   "cell_type": "markdown",
   "metadata": {},
   "source": [
    "## Nested list comprehension"
   ]
  },
  {
   "cell_type": "code",
   "execution_count": 23,
   "metadata": {
    "collapsed": false
   },
   "outputs": [
    {
     "name": "stdout",
     "output_type": "stream",
     "text": [
      "Output a single list:\n",
      "[8, 9, 10]\n",
      "Output a nested list:\n",
      "[[8], [9], [10], [], [], [], [], [], [], []]\n",
      "However, there are differences between these two methods in terms of which loop goes first.\n",
      "A single list, for loop on the right side goes first:\n",
      "[(1, 8), (1, 9), (1, 10), (1, 11), (1, 12), (1, 13), (1, 14), (1, 15), (1, 16), (1, 17), (2, 8), (2, 9), (2, 10), (2, 11), (2, 12), (2, 13), (2, 14), (2, 15), (2, 16), (2, 17), (3, 8), (3, 9), (3, 10), (3, 11), (3, 12), (3, 13), (3, 14), (3, 15), (3, 16), (3, 17), (4, 8), (4, 9), (4, 10), (4, 11), (4, 12), (4, 13), (4, 14), (4, 15), (4, 16), (4, 17), (5, 8), (5, 9), (5, 10), (5, 11), (5, 12), (5, 13), (5, 14), (5, 15), (5, 16), (5, 17), (6, 8), (6, 9), (6, 10), (6, 11), (6, 12), (6, 13), (6, 14), (6, 15), (6, 16), (6, 17), (7, 8), (7, 9), (7, 10), (7, 11), (7, 12), (7, 13), (7, 14), (7, 15), (7, 16), (7, 17), (8, 8), (8, 9), (8, 10), (8, 11), (8, 12), (8, 13), (8, 14), (8, 15), (8, 16), (8, 17), (9, 8), (9, 9), (9, 10), (9, 11), (9, 12), (9, 13), (9, 14), (9, 15), (9, 16), (9, 17), (10, 8), (10, 9), (10, 10), (10, 11), (10, 12), (10, 13), (10, 14), (10, 15), (10, 16), (10, 17)]\n",
      "A nested list, inner for loop goes first:\n",
      "[[(1, 8), (2, 8), (3, 8), (4, 8), (5, 8), (6, 8), (7, 8), (8, 8), (9, 8), (10, 8)], [(1, 9), (2, 9), (3, 9), (4, 9), (5, 9), (6, 9), (7, 9), (8, 9), (9, 9), (10, 9)], [(1, 10), (2, 10), (3, 10), (4, 10), (5, 10), (6, 10), (7, 10), (8, 10), (9, 10), (10, 10)], [(1, 11), (2, 11), (3, 11), (4, 11), (5, 11), (6, 11), (7, 11), (8, 11), (9, 11), (10, 11)], [(1, 12), (2, 12), (3, 12), (4, 12), (5, 12), (6, 12), (7, 12), (8, 12), (9, 12), (10, 12)], [(1, 13), (2, 13), (3, 13), (4, 13), (5, 13), (6, 13), (7, 13), (8, 13), (9, 13), (10, 13)], [(1, 14), (2, 14), (3, 14), (4, 14), (5, 14), (6, 14), (7, 14), (8, 14), (9, 14), (10, 14)], [(1, 15), (2, 15), (3, 15), (4, 15), (5, 15), (6, 15), (7, 15), (8, 15), (9, 15), (10, 15)], [(1, 16), (2, 16), (3, 16), (4, 16), (5, 16), (6, 16), (7, 16), (8, 16), (9, 16), (10, 16)], [(1, 17), (2, 17), (3, 17), (4, 17), (5, 17), (6, 17), (7, 17), (8, 17), (9, 17), (10, 17)]]\n"
     ]
    }
   ],
   "source": [
    "nums1 = [1,2,3,4,5,6,7,8,9,10]\n",
    "nums2 = [8,9,10,11,12,13,14,15,16,17]\n",
    "\n",
    "# Select the items in both nums1 and nums2\n",
    "\n",
    "# Method 1, print a single list\n",
    "my_list=[n for n in nums1 for m in nums2 if n==m]\n",
    "print('Output a single list:')\n",
    "print(my_list)\n",
    "\n",
    "# Method 2, print a nested list\n",
    "my_list=[[n for n in nums1 if n ==m] for m in nums2]\n",
    "print('Output a nested list:')\n",
    "print(my_list)\n",
    "\n",
    "print('However, there are differences between these two methods in terms of which loop goes first.')\n",
    "# Method 1, print a single list\n",
    "my_list=[(n,m) for n in nums1 for m in nums2]\n",
    "print('A single list, for loop on the right side goes first:')\n",
    "print(my_list)\n",
    "\n",
    "# Method 2, print a nested list\n",
    "my_list=[[(n,m) for n in nums1] for m in nums2]\n",
    "print('A nested list, inner for loop goes first:')\n",
    "print(my_list)\n"
   ]
  },
  {
   "cell_type": "markdown",
   "metadata": {},
   "source": [
    "# Dictionary comprehension"
   ]
  },
  {
   "cell_type": "code",
   "execution_count": 28,
   "metadata": {
    "collapsed": false
   },
   "outputs": [
    {
     "name": "stdout",
     "output_type": "stream",
     "text": [
      "{'j': 10, 'd': 4, 'a': 1, 'e': 5, 'g': 7, 'c': 3, 'f': 6, 'h': 8, 'b': 2, 'i': 9}\n"
     ]
    }
   ],
   "source": [
    "labels='abcdefghij'\n",
    "nums = [1,2,3,4,5,6,7,8,9,10]\n",
    "\n",
    "my_dict = {key: value for (key, value) in zip(labels, nums)}\n",
    "print(my_dict)\n"
   ]
  },
  {
   "cell_type": "code",
   "execution_count": 29,
   "metadata": {
    "collapsed": false
   },
   "outputs": [
    {
     "name": "stdout",
     "output_type": "stream",
     "text": [
      "a little more on zip:\n",
      "<zip object at 0x00000000045A0E88>\n",
      "[(1, 11, 21), (2, 12, 22), (3, 13, 23), (4, 14, 24), (5, 15, 25), (6, 16, 26), (7, 17, 27), (8, 18, 28), (9, 19, 29)]\n"
     ]
    }
   ],
   "source": [
    "# more on zip\n",
    "print('a little more on zip:')\n",
    "nums1=range(1,10)\n",
    "nums2=range(11,20)\n",
    "nums3=range(21,30)\n",
    "my_zip=zip(nums1,nums2,nums3)\n",
    "print(my_zip)\n",
    "print(list(my_zip))"
   ]
  },
  {
   "cell_type": "markdown",
   "metadata": {},
   "source": [
    "# Set comprehension"
   ]
  },
  {
   "cell_type": "code",
   "execution_count": 24,
   "metadata": {
    "collapsed": false
   },
   "outputs": [
    {
     "name": "stdout",
     "output_type": "stream",
     "text": [
      "{1, 2, 3, 4, 5, 6, 7, 8, 9, 10}\n"
     ]
    }
   ],
   "source": [
    "nums = [1,1,2,2,3,3,4,4,5,5,6,6,7,7,8,8,9,9,10,10]\n",
    "\n",
    "my_set={ n for n in nums}\n",
    "print(my_set)"
   ]
  },
  {
   "cell_type": "markdown",
   "metadata": {},
   "source": [
    "# some flavor on Generator Expressions"
   ]
  },
  {
   "cell_type": "code",
   "execution_count": 33,
   "metadata": {
    "collapsed": false
   },
   "outputs": [
    {
     "name": "stdout",
     "output_type": "stream",
     "text": [
      "Normal Generator function:\n",
      "<generator object gen_func at 0x00000000045C4780>\n",
      "1\n",
      "2\n",
      "3\n",
      "4\n",
      "5\n",
      "6\n",
      "7\n",
      "8\n",
      "9\n",
      "10\n",
      "Generator expression:\n",
      "<generator object <genexpr> at 0x00000000045C4570>\n",
      "1\n",
      "4\n",
      "9\n",
      "16\n",
      "25\n",
      "36\n",
      "49\n",
      "64\n",
      "81\n",
      "100\n"
     ]
    }
   ],
   "source": [
    "nums = [1,2,3,4,5,6,7,8,9,10]\n",
    "\n",
    "# Normal Generator function:\n",
    "def gen_func(X):\n",
    "    for n in X:\n",
    "        yield n\n",
    "        \n",
    "genfunc=gen_func(nums)\n",
    "print('Normal Generator function:')\n",
    "print(genfunc)\n",
    "\n",
    "for i in genfunc:\n",
    "    print(i)\n",
    "\n",
    "\n",
    "# Generator expression\n",
    "my_gen = (n*n for n in nums)\n",
    "print('Generator expression:')\n",
    "print(my_gen)\n",
    "\n",
    "for i in my_gen:\n",
    "    print(i)"
   ]
  }
 ],
 "metadata": {
  "kernelspec": {
   "display_name": "Python 3",
   "language": "python",
   "name": "python3"
  },
  "language_info": {
   "codemirror_mode": {
    "name": "ipython",
    "version": 3
   },
   "file_extension": ".py",
   "mimetype": "text/x-python",
   "name": "python",
   "nbconvert_exporter": "python",
   "pygments_lexer": "ipython3",
   "version": "3.5.1"
  },
  "latex_envs": {
   "bibliofile": "biblio.bib",
   "cite_by": "apalike",
   "current_citInitial": 1,
   "eqLabelWithNumbers": true,
   "eqNumInitial": 0
  }
 },
 "nbformat": 4,
 "nbformat_minor": 0
}

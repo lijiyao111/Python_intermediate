{
 "cells": [
  {
   "cell_type": "markdown",
   "metadata": {},
   "source": [
    "# string formatting '{}'.format(variable)"
   ]
  },
  {
   "cell_type": "code",
   "execution_count": 1,
   "metadata": {
    "collapsed": true
   },
   "outputs": [],
   "source": [
    "from JL_tools import print_title"
   ]
  },
  {
   "cell_type": "code",
   "execution_count": 2,
   "metadata": {
    "collapsed": false
   },
   "outputs": [
    {
     "name": "stdout",
     "output_type": "stream",
     "text": [
      "--------------------not very nice way to format--------------------\n",
      "My name is Jerry and I am 25 years old.\n",
      "--------------------a nicer way--------------------\n",
      "My name is Jerry and I am 25 years old.\n",
      "My name is Jerry and I am 25 years old.\n",
      "My name is Jerry and I am 25 years old.\n",
      "--------------------Similarly can be used to list--------------------\n",
      "My name is Jim and I am 28 years old.\n",
      "My name is Jim and I am 28 years old.\n",
      "--------------------Unpack dictionary--------------------\n",
      "My name is Jerry and I am 25 years old.\n"
     ]
    }
   ],
   "source": [
    "person = {'name':'Jerry', 'age':25}\n",
    "\n",
    "print_title('not very nice way to format')\n",
    "sentence = 'My name is '+person['name']+' and I am '+str(person['age'])+' years old.'\n",
    "print(sentence)\n",
    "\n",
    "print_title('a nicer way')\n",
    "sentence = 'My name is {} and I am {} years old.'.format(person['name'], person['age'])\n",
    "print(sentence)\n",
    "\n",
    "## this is the same as:\n",
    "sentence = 'My name is {0} and I am {1} years old.'.format(person['name'], person['age'])\n",
    "print(sentence)\n",
    "\n",
    "## this is the same as:\n",
    "sentence = 'My name is {0[name]} and I am {0[age]} years old.'.format(person)\n",
    "print(sentence)\n",
    "\n",
    "print_title('Similarly can be used to list')\n",
    "p_list=['Jim', 28]\n",
    "sentence = 'My name is {0[0]} and I am {0[1]} years old.'.format(p_list)\n",
    "print(sentence)\n",
    "\n",
    "sentence = 'My name is {name} and I am {age} years old.'.format(name='Jim', age=28)\n",
    "print(sentence)\n",
    "\n",
    "print_title('Unpack dictionary')\n",
    "sentence = 'My name is {name} and I am {age} years old.'.format(**person)\n",
    "print(sentence)"
   ]
  },
  {
   "cell_type": "code",
   "execution_count": 3,
   "metadata": {
    "collapsed": false
   },
   "outputs": [
    {
     "name": "stdout",
     "output_type": "stream",
     "text": [
      "--------------------for Class--------------------\n",
      "My name is Jack and I am 33 years old.\n"
     ]
    }
   ],
   "source": [
    "## for Class\n",
    "print_title('for Class')\n",
    "\n",
    "class Person():\n",
    "    def __init__(self, name, age):\n",
    "        self.name = name\n",
    "        self.age = age\n",
    "        \n",
    "p1 = Person('Jack',33)\n",
    "\n",
    "sentence = 'My name is {0.name} and I am {0.age} years old.'.format(p1)\n",
    "print(sentence)"
   ]
  },
  {
   "cell_type": "code",
   "execution_count": 4,
   "metadata": {
    "collapsed": false
   },
   "outputs": [
    {
     "name": "stdout",
     "output_type": "stream",
     "text": [
      "--------------------print one variable several times--------------------\n",
      "<h1>This is a headline</h1>\n"
     ]
    }
   ],
   "source": [
    "tag = 'h1'\n",
    "text = 'This is a headline'\n",
    "\n",
    "print_title('print one variable several times')\n",
    "sentence = '<{0}>{1}</{0}>'.format(tag, text)\n",
    "print(sentence)"
   ]
  },
  {
   "cell_type": "markdown",
   "metadata": {},
   "source": [
    "## Formatting"
   ]
  },
  {
   "cell_type": "code",
   "execution_count": 5,
   "metadata": {
    "collapsed": false
   },
   "outputs": [
    {
     "name": "stdout",
     "output_type": "stream",
     "text": [
      "The value is 001\n",
      "The value is 002\n",
      "The value is 003\n",
      "The value is 004\n",
      "The value is 005\n",
      "The value is 006\n",
      "The value is 007\n",
      "The value is 008\n",
      "The value is 009\n",
      "The value is 010\n"
     ]
    }
   ],
   "source": [
    "for i in range(1,11):\n",
    "    sentence = 'The value is {:03}'.format(i)\n",
    "    print(sentence)"
   ]
  },
  {
   "cell_type": "code",
   "execution_count": 6,
   "metadata": {
    "collapsed": false
   },
   "outputs": [
    {
     "name": "stdout",
     "output_type": "stream",
     "text": [
      "Pi is equal to 3.14\n"
     ]
    }
   ],
   "source": [
    "pi = 3.14159265\n",
    "\n",
    "sentence = 'Pi is equal to {:.2f}'.format(pi)\n",
    "print(sentence)"
   ]
  },
  {
   "cell_type": "code",
   "execution_count": 7,
   "metadata": {
    "collapsed": false
   },
   "outputs": [
    {
     "name": "stdout",
     "output_type": "stream",
     "text": [
      "--------------------print 1,000,000 instead of 1000000--------------------\n",
      "1 MB is equal to 1,000,000 bytes\n",
      "1 MB is equal to 1,000,000.00 bytes\n"
     ]
    }
   ],
   "source": [
    "print_title('print 1,000,000 instead of 1000000')\n",
    "\n",
    "sentence = '1 MB is equal to {:,} bytes'.format(1000**2)\n",
    "print(sentence)\n",
    "\n",
    "sentence = '1 MB is equal to {:,.2f} bytes'.format(1000**2)\n",
    "print(sentence)"
   ]
  },
  {
   "cell_type": "markdown",
   "metadata": {},
   "source": [
    "## Datetime format\n",
    "for more details, visit(https://docs.python.org/2/library/time.html)"
   ]
  },
  {
   "cell_type": "code",
   "execution_count": 8,
   "metadata": {
    "collapsed": false
   },
   "outputs": [
    {
     "name": "stdout",
     "output_type": "stream",
     "text": [
      "2016-09-24 12:30:45\n",
      "--------------------Different format--------------------\n",
      "September 24, 2016\n",
      "September 24, 2016 fell on a Saturday and was the 268 day of the year\n"
     ]
    }
   ],
   "source": [
    "import datetime\n",
    "\n",
    "my_date = datetime.datetime(2016, 9, 24, 12, 30, 45)\n",
    "print(my_date)\n",
    "\n",
    "print_title('Different format')\n",
    "## need format list this: March 01, 2016\n",
    "sentence = '{:%B %d, %Y}'.format(my_date)\n",
    "print(sentence)\n",
    "\n",
    "sentence = '{0:%B %d, %Y} fell on a {0:%A} and was the {0:%j} day of the year'.format(my_date)\n",
    "print(sentence)"
   ]
  }
 ],
 "metadata": {
  "kernelspec": {
   "display_name": "Python [default]",
   "language": "python",
   "name": "python3"
  },
  "language_info": {
   "codemirror_mode": {
    "name": "ipython",
    "version": 3
   },
   "file_extension": ".py",
   "mimetype": "text/x-python",
   "name": "python",
   "nbconvert_exporter": "python",
   "pygments_lexer": "ipython3",
   "version": "3.5.2"
  }
 },
 "nbformat": 4,
 "nbformat_minor": 1
}

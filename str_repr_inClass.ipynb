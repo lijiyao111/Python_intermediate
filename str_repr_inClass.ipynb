{
 "cells": [
  {
   "cell_type": "markdown",
   "metadata": {},
   "source": [
    "# str() VS repr()\n",
    "\n",
    "- the goal of ```__repr__``` is to be unambiguous\n",
    "- the goal of ```__str__``` is to be readable\n",
    "- ```__str__``` is for display, mostly used by user\n",
    "- ```__repr__``` is for recreate the same object, using ```eval()``` function, used by developer\n",
    "- when ```__str__``` is absent, ```str()``` use ```__repr__```"
   ]
  },
  {
   "cell_type": "code",
   "execution_count": 1,
   "metadata": {
    "collapsed": false
   },
   "outputs": [
    {
     "name": "stdout",
     "output_type": "stream",
     "text": [
      "--------------------Section title--------------------\n"
     ]
    }
   ],
   "source": [
    "def print_title(title):\n",
    "    print('{}{}{}'.format(20*'-',title,20*'-'))\n",
    "    \n",
    "print_title('Section title')"
   ]
  },
  {
   "cell_type": "code",
   "execution_count": 2,
   "metadata": {
    "collapsed": false
   },
   "outputs": [
    {
     "name": "stdout",
     "output_type": "stream",
     "text": [
      "--------------------str() and repr() of a--------------------\n",
      "2016-12-17 22:56:18.903628\n",
      "str(a): 2016-12-17 22:56:18.903628\n",
      "repr(a): datetime.datetime(2016, 12, 17, 22, 56, 18, 903628)\n",
      "--------------------str() and repr() of b--------------------\n",
      "2016-12-17 22:56:18.903628\n",
      "str(b): 2016-12-17 22:56:18.903628\n",
      "repr(b): '2016-12-17 22:56:18.903628'\n",
      "--------------------eval(repr(object)) should return the same copy of object--------------------\n",
      "True\n"
     ]
    }
   ],
   "source": [
    "import datetime\n",
    "\n",
    "a = datetime.datetime.utcnow()\n",
    "b = str(a)\n",
    "\n",
    "print_title('str() and repr() of a')\n",
    "print(a)\n",
    "print('str(a): {}'.format(str(a)))\n",
    "print('repr(a): {}'.format(repr(a)))\n",
    "\n",
    "print_title('str() and repr() of b')\n",
    "print(b)\n",
    "print('str(b): {}'.format(str(b)))\n",
    "print('repr(b): {}'.format(repr(b)))\n",
    "\n",
    "print_title('eval(repr(object)) should return the same copy of object')\n",
    "print(eval(repr(a)) == a)  ## this may not always be True, since eval(repr(object)) could be an identical but different object"
   ]
  },
  {
   "cell_type": "markdown",
   "metadata": {},
   "source": [
    "# user defined class with ```__str__()``` and ```__repr()__```\n",
    "If we were to remove the ```__str__``` method, then Python will just by default give us the ```__repr__``` method"
   ]
  },
  {
   "cell_type": "code",
   "execution_count": 3,
   "metadata": {
    "collapsed": false
   },
   "outputs": [
    {
     "name": "stdout",
     "output_type": "stream",
     "text": [
      "--------------------with both __str__ and __repr__--------------------\n",
      "(3, 4)\n"
     ]
    },
    {
     "data": {
      "text/plain": [
       "Pair(3, 4)"
      ]
     },
     "execution_count": 3,
     "metadata": {},
     "output_type": "execute_result"
    }
   ],
   "source": [
    "class Pair:\n",
    "    def __init__(self, x, y):\n",
    "        self.x = x\n",
    "        self.y = y\n",
    "        \n",
    "    def __repr__(self):\n",
    "        return 'Pair({0.x!r}, {0.y!r})'.format(self)\n",
    "    \n",
    "    def __str__(self):\n",
    "        return '({0.x!s}, {0.y!s})'.format(self)\n",
    "    \n",
    "p = Pair(3,4)\n",
    "\n",
    "print_title('with both __str__ and __repr__')\n",
    "\n",
    "print(p) ## __str__() output\n",
    "p ## __repr__() output"
   ]
  },
  {
   "cell_type": "code",
   "execution_count": 4,
   "metadata": {
    "collapsed": false
   },
   "outputs": [
    {
     "name": "stdout",
     "output_type": "stream",
     "text": [
      "--------------------with only __repr__--------------------\n",
      "Pair(3, 4)\n"
     ]
    },
    {
     "data": {
      "text/plain": [
       "Pair(3, 4)"
      ]
     },
     "execution_count": 4,
     "metadata": {},
     "output_type": "execute_result"
    }
   ],
   "source": [
    "class Pair:\n",
    "    def __init__(self, x, y):\n",
    "        self.x = x\n",
    "        self.y = y\n",
    "        \n",
    "    def __repr__(self):\n",
    "        return 'Pair({0.x!r}, {0.y!r})'.format(self)\n",
    "    \n",
    "#     def __str__(self):\n",
    "#         return '({0.x!s}, {0.y!s})'.format(self)\n",
    "    \n",
    "p = Pair(3,4)\n",
    "\n",
    "print_title('with only __repr__')\n",
    "\n",
    "print(p) ## __str__() is absent, use __repr__() output\n",
    "p ## __repr__() output"
   ]
  },
  {
   "cell_type": "code",
   "execution_count": 5,
   "metadata": {
    "collapsed": false
   },
   "outputs": [
    {
     "name": "stdout",
     "output_type": "stream",
     "text": [
      "--------------------with only __str__--------------------\n",
      "(3, 4)\n"
     ]
    },
    {
     "data": {
      "text/plain": [
       "<__main__.Pair at 0x44c5a58>"
      ]
     },
     "execution_count": 5,
     "metadata": {},
     "output_type": "execute_result"
    }
   ],
   "source": [
    "class Pair:\n",
    "    def __init__(self, x, y):\n",
    "        self.x = x\n",
    "        self.y = y\n",
    "        \n",
    "#     def __repr__(self):\n",
    "#         return 'Pair({0.x!r}, {0.y!r})'.format(self)\n",
    "    \n",
    "    def __str__(self):\n",
    "        return '({0.x!s}, {0.y!s})'.format(self)\n",
    "    \n",
    "p = Pair(3,4)\n",
    "\n",
    "print_title('with only __str__')\n",
    "\n",
    "print(p) ## __str__() is absent, use __repr__() output\n",
    "p ## __repr__() output"
   ]
  }
 ],
 "metadata": {
  "kernelspec": {
   "display_name": "Python 3",
   "language": "python",
   "name": "python3"
  },
  "language_info": {
   "codemirror_mode": {
    "name": "ipython",
    "version": 3
   },
   "file_extension": ".py",
   "mimetype": "text/x-python",
   "name": "python",
   "nbconvert_exporter": "python",
   "pygments_lexer": "ipython3",
   "version": "3.5.1"
  },
  "latex_envs": {
   "bibliofile": "biblio.bib",
   "cite_by": "apalike",
   "current_citInitial": 1,
   "eqLabelWithNumbers": true,
   "eqNumInitial": 0
  }
 },
 "nbformat": 4,
 "nbformat_minor": 0
}

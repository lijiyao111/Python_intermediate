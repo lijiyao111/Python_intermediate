{
 "cells": [
  {
   "cell_type": "markdown",
   "metadata": {},
   "source": [
    "# Instance variable\n",
    "\n",
    "Instance variable is variable that is unique to each class instance"
   ]
  },
  {
   "cell_type": "code",
   "execution_count": 1,
   "metadata": {
    "collapsed": true
   },
   "outputs": [],
   "source": [
    "from JL_tools import print_title"
   ]
  },
  {
   "cell_type": "code",
   "execution_count": 2,
   "metadata": {
    "collapsed": false
   },
   "outputs": [
    {
     "name": "stdout",
     "output_type": "stream",
     "text": [
      "--------------------This is not related to class :-P--------------------\n",
      "None\n"
     ]
    }
   ],
   "source": [
    "## If a function has no return, it actually returns None\n",
    "def test():\n",
    "    pass\n",
    "\n",
    "print_title('This is not related to class :-P')\n",
    "a=test()\n",
    "print(a)"
   ]
  },
  {
   "cell_type": "markdown",
   "metadata": {},
   "source": [
    "## Python class vs C++ class\n",
    "\n",
    "My feeling is that C++ class is defined in a more strict way. Python class is much more flexible, and this could also be a drawback to make it confusing and complicated."
   ]
  },
  {
   "cell_type": "code",
   "execution_count": 3,
   "metadata": {
    "collapsed": false
   },
   "outputs": [
    {
     "name": "stdout",
     "output_type": "stream",
     "text": [
      "--------------------This class definition contains Nothing!--------------------\n",
      "<__main__.Employee object at 0x00000246C40310F0>\n",
      "<__main__.Employee object at 0x00000246C4035F98>\n",
      "--------------------Mannually add the attributes to each instance--------------------\n",
      "Jerry.Li@email.com\n",
      "Jim.Lin@email.com\n",
      "--------------------Mannually add the methods to each instance--------------------\n",
      "Jerry Li\n",
      "Jim Lin\n"
     ]
    }
   ],
   "source": [
    "print_title('This class definition contains Nothing!')\n",
    "\n",
    "class Employee:\n",
    "    pass\n",
    "  \n",
    "## Create two class instances\n",
    "emp_1 = Employee()  \n",
    "emp_2 = Employee()\n",
    "\n",
    "print(emp_1)\n",
    "print(emp_2)\n",
    "\n",
    "print_title('Mannually add the attributes to each instance')\n",
    "## Add the attributes to each instance one by one, Annoying!\n",
    "## I don't think this is allowed in C++\n",
    "emp_1.first = 'Jerry'\n",
    "emp_1.last = 'Li'\n",
    "emp_1.email = 'Jerry.Li@email.com'\n",
    "emp_1.pay = 5000\n",
    "\n",
    "emp_2.first = 'Jim'\n",
    "emp_2.last = 'Lin'\n",
    "emp_2.email = 'Jim.Lin@email.com'\n",
    "emp_2.pay = 6000\n",
    "\n",
    "print(emp_1.email)\n",
    "print(emp_2.email)\n",
    "\n",
    "print_title('Mannually add the methods to each instance')\n",
    "## Add the methods to each instance one by one, Annoying!\n",
    "def full_name(cls):\n",
    "    print('{} {}'.format(cls.first, cls.last))\n",
    "\n",
    "emp_1.fullname=full_name\n",
    "emp_1.fullname(emp_1)\n",
    "\n",
    "emp_2.fullname=full_name\n",
    "emp_2.fullname(emp_2)"
   ]
  },
  {
   "cell_type": "code",
   "execution_count": 4,
   "metadata": {
    "collapsed": false
   },
   "outputs": [
    {
     "name": "stdout",
     "output_type": "stream",
     "text": [
      "--------------------Definitions within class make it easier to create instances!--------------------\n",
      "Jerry.Li@company.com\n",
      "Jim.Lin@company.com\n",
      "Jerry Li\n",
      "Jerry Li\n",
      "Jim Lin\n"
     ]
    }
   ],
   "source": [
    "print_title('Definitions within class make it easier to create instances!')\n",
    "\n",
    "class Employee:\n",
    "    \n",
    "    def __init__(self, first, last, pay):\n",
    "        self.first = first\n",
    "        self.last = last\n",
    "        self.pay = pay\n",
    "        self.email = first + '.' + last + '@company.com'\n",
    "        \n",
    "    def fullname(self):\n",
    "        return '{} {}'.format(self.first, self.last)\n",
    "        \n",
    "\n",
    "  \n",
    "emp_1 = Employee('Jerry', 'Li', 5000 )\n",
    "emp_2 = Employee('Jim', 'Lin', 6000 )\n",
    "\n",
    "print(emp_1.email)\n",
    "print(emp_2.email)\n",
    "\n",
    "print(emp_1.fullname()) ## self is pass automatically\n",
    "print(Employee.fullname(emp_1)) ## Exactly the same, using instance method does not need to pass the class\n",
    "\n",
    "print(emp_2.fullname())\n",
    "\n",
    "\n",
    "    \n"
   ]
  },
  {
   "cell_type": "markdown",
   "metadata": {},
   "source": [
    "# Class variables vs instance variables"
   ]
  },
  {
   "cell_type": "code",
   "execution_count": 5,
   "metadata": {
    "collapsed": false
   },
   "outputs": [
    {
     "name": "stdout",
     "output_type": "stream",
     "text": [
      "--------------------Raise salary--------------------\n",
      "5000\n",
      "5200\n",
      "--------------------Class variable belongs to class, but instance has access to it--------------------\n",
      "1.04\n",
      "1.04\n",
      "1.04\n",
      "--------------------Namespace of class and the instances--------------------\n",
      "{'__init__': <function Employee.__init__ at 0x00000246C4006A60>, 'fullname': <function Employee.fullname at 0x00000246C4006840>, '__dict__': <attribute '__dict__' of 'Employee' objects>, '__weakref__': <attribute '__weakref__' of 'Employee' objects>, 'raise_amount': 1.04, '__module__': '__main__', '__doc__': None, 'apply_raise': <function Employee.apply_raise at 0x00000246C4006AE8>}\n",
      "{'first': 'Jerry', 'email': 'Jerry.Li@company.com', 'pay': 5200, 'last': 'Li'}\n",
      "--------------------Class variable changes change all the instances--------------------\n",
      "1.05\n",
      "1.05\n",
      "1.05\n",
      "--------------------assign the class varible to an instance, actually create an extra attribute to this instance--------------------\n",
      "1.05\n",
      "1.06\n",
      "1.05\n"
     ]
    }
   ],
   "source": [
    "class Employee:\n",
    "    \n",
    "    raise_amount = 1.04  ## this is class variable\n",
    "    \n",
    "    def __init__(self, first, last, pay):\n",
    "        self.first = first\n",
    "        self.last = last\n",
    "        self.pay = pay\n",
    "        self.email = first + '.' + last + '@company.com'\n",
    "        \n",
    "    def fullname(self):\n",
    "        return '{} {}'.format(self.first, self.last)\n",
    "    \n",
    "    def apply_raise(self):\n",
    "#         self.pay = int(self.pay * raise_amount) ## error, raise_amount can not be found\n",
    "        self.pay = int(self.pay * self.raise_amount)\n",
    "#         self.pay = int(self.pay * Employee.raise_amount) ## This works too\n",
    "        \n",
    "\n",
    "  \n",
    "emp_1 = Employee('Jerry', 'Li', 5000 )\n",
    "emp_2 = Employee('Jim', 'Lin', 6000 )\n",
    "\n",
    "print_title('Raise salary')\n",
    "print(emp_1.pay)\n",
    "emp_1.apply_raise()\n",
    "print(emp_1.pay)\n",
    "\n",
    "print_title('Class variable belongs to class, but instance has access to it')\n",
    "print(Employee.raise_amount)\n",
    "print(emp_1.raise_amount)\n",
    "print(emp_2.raise_amount)\n",
    "\n",
    "print_title('Namespace of class and the instances')\n",
    "print(Employee.__dict__)\n",
    "print(emp_1.__dict__)\n",
    "\n",
    "print_title('Class variable changes change all the instances')\n",
    "Employee.raise_amount = 1.05\n",
    "\n",
    "print(Employee.raise_amount)\n",
    "print(emp_1.raise_amount)\n",
    "print(emp_2.raise_amount)\n",
    "\n",
    "\n",
    "print_title('assign the class varible to an instance, actually create an extra attribute to this instance')\n",
    "emp_1.raise_amount = 1.06\n",
    "\n",
    "print(Employee.raise_amount)\n",
    "print(emp_1.raise_amount)\n",
    "print(emp_2.raise_amount)"
   ]
  },
  {
   "cell_type": "code",
   "execution_count": 6,
   "metadata": {
    "collapsed": false
   },
   "outputs": [
    {
     "name": "stdout",
     "output_type": "stream",
     "text": [
      "--------------------Increase class variable--------------------\n",
      "0\n",
      "2\n"
     ]
    }
   ],
   "source": [
    "class Employee:\n",
    "    \n",
    "    num_of_emps = 0\n",
    "    raise_amount = 1.04  ## this is class variable\n",
    "    \n",
    "    def __init__(self, first, last, pay):\n",
    "        self.first = first\n",
    "        self.last = last\n",
    "        self.pay = pay\n",
    "        self.email = first + '.' + last + '@company.com'\n",
    "        \n",
    "        Employee.num_of_emps += 1\n",
    "        \n",
    "print_title('Increase class variable')\n",
    "print(Employee.num_of_emps)\n",
    "\n",
    "emp_1 = Employee('Jerry', 'Li', 5000 )\n",
    "emp_2 = Employee('Jim', 'Lin', 6000 )\n",
    "\n",
    "print(Employee.num_of_emps)\n",
    "\n"
   ]
  },
  {
   "cell_type": "markdown",
   "metadata": {},
   "source": [
    "# Regular method in class, class method, static method"
   ]
  },
  {
   "cell_type": "code",
   "execution_count": 7,
   "metadata": {
    "collapsed": false
   },
   "outputs": [
    {
     "name": "stdout",
     "output_type": "stream",
     "text": [
      "1.05\n",
      "1.05\n",
      "1.05\n"
     ]
    }
   ],
   "source": [
    "class Employee:\n",
    "    \n",
    "    raise_amount = 1.04  ## this is class variable\n",
    "    \n",
    "    def __init__(self, first, last, pay):\n",
    "        self.first = first\n",
    "        self.last = last\n",
    "        self.pay = pay\n",
    "        self.email = first + '.' + last + '@company.com'\n",
    "        \n",
    "    def fullname(self):\n",
    "        return '{} {}'.format(self.first, self.last)\n",
    "    \n",
    "    def apply_raise(self):\n",
    "#         self.pay = int(self.pay * raise_amount) ## error, raise_amount can not be found\n",
    "        self.pay = int(self.pay * self.raise_amount)\n",
    "#         self.pay = int(self.pay * Employee.raise_amount) ## This works too\n",
    "\n",
    "    @classmethod\n",
    "    def set_raise_amt(cls, amount):  # cls is the Class, not the instance\n",
    "        cls.raise_amount = amount\n",
    "        \n",
    "emp_1 = Employee('Jerry', 'Li', 5000 )\n",
    "emp_2 = Employee('Jim', 'Lin', 6000 )\n",
    "        \n",
    "Employee.set_raise_amt(1.05)\n",
    "# Employee.raise_amount = 1.05 ## Exactly the same effect\n",
    "# emp_1.set_raise_amt(1.06)  ## Exactly the same effect\n",
    "\n",
    "print(Employee.raise_amount)\n",
    "print(emp_1.raise_amount)\n",
    "print(emp_2.raise_amount)\n",
    "\n"
   ]
  },
  {
   "cell_type": "markdown",
   "metadata": {},
   "source": [
    "## Use class method as alternative constructor"
   ]
  },
  {
   "cell_type": "code",
   "execution_count": 8,
   "metadata": {
    "collapsed": false
   },
   "outputs": [
    {
     "name": "stdout",
     "output_type": "stream",
     "text": [
      "--------------------add new employee with different data format--------------------\n",
      "Tom Wang\n"
     ]
    }
   ],
   "source": [
    "class Employee:\n",
    "    \n",
    "    num_of_emps = 0\n",
    "    raise_amount = 1.04  ## this is class variable\n",
    "    \n",
    "    def __init__(self, first, last, pay):\n",
    "        self.first = first\n",
    "        self.last = last\n",
    "        self.pay = pay\n",
    "        self.email = first + '.' + last + '@company.com'\n",
    "        \n",
    "        Employee.num_of_emps += 1\n",
    "        \n",
    "    def fullname(self):\n",
    "        return '{} {}'.format(self.first, self.last)\n",
    "        \n",
    "print_title('add new employee with different data format')\n",
    "\n",
    "\n",
    "emp_1 = Employee('Jerry', 'Li', 5000 )\n",
    "emp_2 = Employee('Jim', 'Lin', 6000 )\n",
    "\n",
    "emp_str_3 = 'Tom-Wang-8000'\n",
    "first, last, pay = emp_str_3.split('-')\n",
    "\n",
    "new_emp_3 = Employee(first, last, pay)\n",
    "\n",
    "print(new_emp_3.fullname())\n"
   ]
  },
  {
   "cell_type": "code",
   "execution_count": 9,
   "metadata": {
    "collapsed": false
   },
   "outputs": [
    {
     "name": "stdout",
     "output_type": "stream",
     "text": [
      "--------------------use the class method to alter the constructor--------------------\n",
      "Tom Wang\n"
     ]
    }
   ],
   "source": [
    "class Employee:\n",
    "    \n",
    "    num_of_emps = 0\n",
    "    raise_amount = 1.04  ## this is class variable\n",
    "    \n",
    "    def __init__(self, first, last, pay):\n",
    "        self.first = first\n",
    "        self.last = last\n",
    "        self.pay = pay\n",
    "        self.email = first + '.' + last + '@company.com'\n",
    "        \n",
    "        Employee.num_of_emps += 1\n",
    "        \n",
    "    def fullname(self):\n",
    "        return '{} {}'.format(self.first, self.last)\n",
    "    \n",
    "    @classmethod\n",
    "    def from_string(cls, emp_str):\n",
    "        first, last, pay = emp_str.split('-')\n",
    "        return cls(first, last, pay)\n",
    "        \n",
    "print_title('use the class method to alter the constructor')\n",
    "\n",
    "\n",
    "\n",
    "emp_1 = Employee('Jerry', 'Li', 5000 )\n",
    "emp_2 = Employee('Jim', 'Lin', 6000 )\n",
    "\n",
    "emp_str_3 = 'Tom-Wang-8000'\n",
    "\n",
    "new_emp_3 = Employee.from_string(emp_str_3)\n",
    "\n",
    "print(new_emp_3.fullname())"
   ]
  },
  {
   "cell_type": "markdown",
   "metadata": {},
   "source": [
    "## static method is just a regular method in the class, neither instance nor class is passed to it"
   ]
  },
  {
   "cell_type": "code",
   "execution_count": 10,
   "metadata": {
    "collapsed": false
   },
   "outputs": [
    {
     "name": "stdout",
     "output_type": "stream",
     "text": [
      "True\n"
     ]
    }
   ],
   "source": [
    "class Employee:\n",
    "    \n",
    "    num_of_emps = 0\n",
    "    raise_amount = 1.04  ## this is class variable\n",
    "    \n",
    "    def __init__(self, first, last, pay):\n",
    "        self.first = first\n",
    "        self.last = last\n",
    "        self.pay = pay\n",
    "        self.email = first + '.' + last + '@company.com'\n",
    "        \n",
    "        Employee.num_of_emps += 1\n",
    "        \n",
    "    def fullname(self):\n",
    "        return '{} {}'.format(self.first, self.last)\n",
    "    \n",
    "    @staticmethod\n",
    "    def is_workday(day):\n",
    "        if day.weekday() == 5 or day.weekday() == 6:\n",
    "            return False\n",
    "        return True\n",
    "    \n",
    "import datetime\n",
    "my_date = datetime.date(2016,7 , 11)\n",
    "\n",
    "print(Employee.is_workday(my_date))\n",
    "    \n"
   ]
  }
 ],
 "metadata": {
  "anaconda-cloud": {},
  "kernelspec": {
   "display_name": "Python [default]",
   "language": "python",
   "name": "python3"
  },
  "language_info": {
   "codemirror_mode": {
    "name": "ipython",
    "version": 3
   },
   "file_extension": ".py",
   "mimetype": "text/x-python",
   "name": "python",
   "nbconvert_exporter": "python",
   "pygments_lexer": "ipython3",
   "version": "3.5.2"
  }
 },
 "nbformat": 4,
 "nbformat_minor": 1
}

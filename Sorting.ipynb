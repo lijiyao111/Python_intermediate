{
 "cells": [
  {
   "cell_type": "markdown",
   "metadata": {},
   "source": [
    "# Sorting with list and tuple"
   ]
  },
  {
   "cell_type": "code",
   "execution_count": 1,
   "metadata": {
    "collapsed": false
   },
   "outputs": [
    {
     "name": "stdout",
     "output_type": "stream",
     "text": [
      "--------------------Section title--------------------\n"
     ]
    }
   ],
   "source": [
    "def print_title(title):\n",
    "    print('{}{}{}'.format(20*'-',title,20*'-'))\n",
    "    \n",
    "print_title('Section title')"
   ]
  },
  {
   "cell_type": "code",
   "execution_count": 2,
   "metadata": {
    "collapsed": false
   },
   "outputs": [
    {
     "name": "stdout",
     "output_type": "stream",
     "text": [
      "--------------------Sort with List--------------------\n",
      "sort list using sorted() [1, 2, 2, 3, 3, 4, 5, 9, 10, 11]\n",
      "sort list using .sort() [1, 2, 2, 3, 3, 4, 5, 9, 10, 11]\n",
      ".sort() returns  None\n",
      "--------------------Sort in reverse--------------------\n",
      "sort list sort in reverse order [11, 10, 9, 5, 4, 3, 3, 2, 2, 1]\n",
      "--------------------Sort using absolute value--------------------\n",
      "sort list sort using abs value: [1, -2, 2, -3, 3, 4, -5, 9, -10, 11]\n"
     ]
    }
   ],
   "source": [
    "print_title('Sort with List')\n",
    "my_list=[9,3,2,4,5,1,2,3,11,10]\n",
    "\n",
    "s_list=sorted(my_list)\n",
    "print('sort list using sorted()',s_list)\n",
    "\n",
    "var = my_list.sort() \n",
    "print('sort list using .sort()',my_list)\n",
    "print('.sort() returns ',var)\n",
    "\n",
    "print_title('Sort in reverse')\n",
    "my_list=[9,3,2,4,5,1,2,3,11,10]\n",
    "\n",
    "s_list=sorted(my_list, reverse=True)\n",
    "print('sort list sort in reverse order',s_list)\n",
    "\n",
    "print_title('Sort using absolute value')\n",
    "my_list=[9,-3,-2,4,-5,1,2,3,11,-10]\n",
    "s_list=sorted(my_list, key=abs)\n",
    "print('sort list sort using abs value:',s_list)"
   ]
  },
  {
   "cell_type": "code",
   "execution_count": 3,
   "metadata": {
    "collapsed": false
   },
   "outputs": [
    {
     "name": "stdout",
     "output_type": "stream",
     "text": [
      "--------------------Sort with Tuple--------------------\n",
      "sort tuple using sorted() [1, 2, 2, 3, 3, 4, 5, 9, 10, 11]\n",
      ".sort() on tuple change the tuple into a list:  [1, 2, 2, 3, 3, 4, 5, 9, 10, 11]\n"
     ]
    }
   ],
   "source": [
    "print_title('Sort with Tuple')\n",
    "my_tuple=(9,3,2,4,5,1,2,3,11,10)\n",
    "\n",
    "s_tuple=sorted(my_tuple)\n",
    "print('sort tuple using sorted()',s_tuple)\n",
    "\n",
    "s_tuple.sort()\n",
    "print('.sort() on tuple change the tuple into a list: ',s_tuple)"
   ]
  },
  {
   "cell_type": "markdown",
   "metadata": {},
   "source": [
    "Difference between ```sorted()``` and ```list.sort()```:\n",
    "1. .sort() sort in place, sorted() just sort and return the sorted list.\n",
    "2. .sort() return None\n",
    "3. sorted() can also be applied to other data format, e.g. tuple, dictionary. .sort() only belongs to list. **Correction**, at least in python 3.5, tuple also has .sort() function which returns a list."
   ]
  },
  {
   "cell_type": "markdown",
   "metadata": {},
   "source": [
    "# Sorting with dictionary"
   ]
  },
  {
   "cell_type": "code",
   "execution_count": 4,
   "metadata": {
    "collapsed": false
   },
   "outputs": [
    {
     "name": "stdout",
     "output_type": "stream",
     "text": [
      "--------------------Difference between dictionary and dictionary.items()--------------------\n",
      "('d', 42)\n",
      "('b', 8)\n",
      "('c', 3)\n",
      "('a', 18)\n",
      "('f', 13)\n",
      "d\n",
      "b\n",
      "c\n",
      "a\n",
      "f\n"
     ]
    }
   ],
   "source": [
    "print_title('Difference between dictionary and dictionary.items()')\n",
    "my_dict={'a':18,'b':8,'c':3,'d':42,'f':13}\n",
    "\n",
    "for i in my_dict.items():\n",
    "    print(i)\n",
    "    \n",
    "for i in my_dict:\n",
    "    print(i)"
   ]
  },
  {
   "cell_type": "code",
   "execution_count": 5,
   "metadata": {
    "collapsed": false
   },
   "outputs": [
    {
     "name": "stdout",
     "output_type": "stream",
     "text": [
      "--------------------Dictionary by default sort on keys--------------------\n",
      "sorted() with dict only returns the key of dict: ['a', 'b', 'c', 'd', 'f']\n",
      "sorted() with dict.items() returns the key and value pair: [('a', 18), ('b', 8), ('c', 3), ('d', 42), ('f', 13)]\n"
     ]
    }
   ],
   "source": [
    "my_dict={'a':18,'b':8,'c':3,'d':42,'f':13}\n",
    "\n",
    "print_title('Dictionary by default sort on keys')\n",
    "\n",
    "s_dict=sorted(my_dict)\n",
    "print('sorted() with dict only returns the key of dict:',s_dict)\n",
    "\n",
    "s_dict=sorted(my_dict.items())\n",
    "print('sorted() with dict.items() returns the key and value pair:',s_dict)"
   ]
  },
  {
   "cell_type": "code",
   "execution_count": 6,
   "metadata": {
    "collapsed": false
   },
   "outputs": [
    {
     "name": "stdout",
     "output_type": "stream",
     "text": [
      "--------------------Make dictionary sort on values--------------------\n",
      "Returns only the key: ['c', 'b', 'f', 'a', 'd']\n",
      "Returns the key and value pair: [('c', 3), ('b', 8), ('f', 13), ('a', 18), ('d', 42)]\n"
     ]
    }
   ],
   "source": [
    "print_title('Make dictionary sort on values')\n",
    "\n",
    "s_dict=sorted(my_dict, key=lambda e: my_dict[e])\n",
    "print('Returns only the key:',s_dict)\n",
    "\n",
    "s_dict=sorted(my_dict.items(), key=lambda e: e[1])\n",
    "print('Returns the key and value pair:',s_dict)"
   ]
  },
  {
   "cell_type": "markdown",
   "metadata": {},
   "source": [
    "'key = xxx', one item from the iterable is pass to this statement."
   ]
  },
  {
   "cell_type": "markdown",
   "metadata": {},
   "source": [
    "# Sorting with user-defined object"
   ]
  },
  {
   "cell_type": "code",
   "execution_count": 7,
   "metadata": {
    "collapsed": false
   },
   "outputs": [
    {
     "name": "stdout",
     "output_type": "stream",
     "text": [
      "[(Carl,37,$7000), (Sarah,47,$9000), (John,27,$6000)]\n",
      "Error: unorderable types: Employee() < Employee()\n",
      "--------------------Define the behavior of comparision--------------------\n",
      "[(John,27,$6000), (Carl,37,$7000), (Sarah,47,$9000)]\n",
      "[(John,27,$6000), (Carl,37,$7000), (Sarah,47,$9000)]\n",
      "[(John,27,$6000), (Carl,37,$7000), (Sarah,47,$9000)]\n"
     ]
    }
   ],
   "source": [
    "class Employee():\n",
    "    def __init__(self, name, age, salary):\n",
    "        self.name = name\n",
    "        self.age = age\n",
    "        self.salary = salary\n",
    "        \n",
    "    def __repr__(self):\n",
    "        return '({},{},${})'.format(self.name,self.age,self.salary)\n",
    "    \n",
    "e1 = Employee('Carl',37, 7000)\n",
    "e2 = Employee('Sarah',47, 9000)\n",
    "e3 = Employee('John',27, 6000)\n",
    "\n",
    "employees = [e1, e2, e3]\n",
    "print(employees)\n",
    "\n",
    "try:\n",
    "    s_employees = sorted(employees)\n",
    "except Exception as e:\n",
    "    print('Error:',e)\n",
    "finally:\n",
    "    pass\n",
    "\n",
    "print_title('Define the behavior of comparision')\n",
    "\n",
    "## Use a function to do comparision\n",
    "def e_sort(e):\n",
    "    return e.salary\n",
    "\n",
    "s_employees = sorted(employees, key=e_sort)\n",
    "print(s_employees)\n",
    "\n",
    "## Can also use lambda function\n",
    "s_employees = sorted(employees, key=lambda e: e.salary)\n",
    "print(s_employees)\n",
    "\n",
    "## use attrgetter() function\n",
    "from operator import attrgetter\n",
    "s_employees = sorted(employees, key=attrgetter('salary'))\n",
    "print(s_employees)"
   ]
  }
 ],
 "metadata": {
  "kernelspec": {
   "display_name": "Python 3",
   "language": "python",
   "name": "python3"
  },
  "language_info": {
   "codemirror_mode": {
    "name": "ipython",
    "version": 3
   },
   "file_extension": ".py",
   "mimetype": "text/x-python",
   "name": "python",
   "nbconvert_exporter": "python",
   "pygments_lexer": "ipython3",
   "version": "3.5.1"
  },
  "latex_envs": {
   "bibliofile": "biblio.bib",
   "cite_by": "apalike",
   "current_citInitial": 1,
   "eqLabelWithNumbers": true,
   "eqNumInitial": 0
  }
 },
 "nbformat": 4,
 "nbformat_minor": 0
}
